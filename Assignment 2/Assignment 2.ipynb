{
 "cells": [
  {
   "cell_type": "markdown",
   "id": "449361a6",
   "metadata": {},
   "source": [
    "Data Wrangling II\n",
    "Create an “Academic performance” dataset of students and perform the following operations using Python.\n",
    "1.\tScan all variables for missing values and inconsistencies. If there are missing values and/or inconsistencies, use any of \n",
    "the suitable techniques to deal with them.\n",
    "2.\tScan all numeric variables for outliers. If there are outliers, use any of the suitable techniques to deal with them.\n",
    "3.\tApply data transformations on at least one of the variables. The purpose of this transformation should be one of the \n",
    "following reasons: to change the scale for better understanding of the variable, to convert a non-linear relation into a linear \n",
    "one, or to decrease the skewness and convert the distribution into a normal distribution.\n",
    "\n",
    "Reason and document your approach properly.\n"
   ]
  },
  {
   "cell_type": "code",
   "execution_count": 1047,
   "id": "141426f2",
   "metadata": {},
   "outputs": [],
   "source": [
    "import pandas as pd\n",
    "import numpy as np    \n",
    "import matplotlib.pyplot as plt  \n",
    "import seaborn as sns           # importing pandas and numpy library"
   ]
  },
  {
   "cell_type": "code",
   "execution_count": 1048,
   "id": "c3bc5a6a",
   "metadata": {},
   "outputs": [],
   "source": [
    "data = [[32, 39, 72, 7, 41, 78],[19, 33, 45, 6, None, 89],[45, 87, 79, 10, 34, None],[21, 21, '?', 4, 39, 65],\n",
    "       [91, -39, 75, -4, 45, 91], [66, None, 66, 8, 21, '?'], [23, 43, None, 7, -21, 81], [11, 36, 56, 5, 76, 76], [54, 45, 71, None, 32, 150]\n",
    "       , [76, 11, 122, -4, None, 94], [10, 43, 72, 7, 41, 94]]           # creating the dataset"
   ]
  },
  {
   "cell_type": "code",
   "execution_count": 1049,
   "id": "e3286570",
   "metadata": {},
   "outputs": [],
   "source": [
    "df = pd.DataFrame(data, columns = ['Roll.no', 'OOP(50)', 'EM-3(80)', 'EM-3 Tut(10)', 'DSA(50)', 'CN(100)'])  # creating a dataframe and naming the columns"
   ]
  },
  {
   "cell_type": "code",
   "execution_count": 1050,
   "id": "771c8ef8",
   "metadata": {},
   "outputs": [
    {
     "data": {
      "text/html": [
       "<div>\n",
       "<style scoped>\n",
       "    .dataframe tbody tr th:only-of-type {\n",
       "        vertical-align: middle;\n",
       "    }\n",
       "\n",
       "    .dataframe tbody tr th {\n",
       "        vertical-align: top;\n",
       "    }\n",
       "\n",
       "    .dataframe thead th {\n",
       "        text-align: right;\n",
       "    }\n",
       "</style>\n",
       "<table border=\"1\" class=\"dataframe\">\n",
       "  <thead>\n",
       "    <tr style=\"text-align: right;\">\n",
       "      <th></th>\n",
       "      <th>Roll.no</th>\n",
       "      <th>OOP(50)</th>\n",
       "      <th>EM-3(80)</th>\n",
       "      <th>EM-3 Tut(10)</th>\n",
       "      <th>DSA(50)</th>\n",
       "      <th>CN(100)</th>\n",
       "    </tr>\n",
       "  </thead>\n",
       "  <tbody>\n",
       "    <tr>\n",
       "      <th>0</th>\n",
       "      <td>32</td>\n",
       "      <td>39.0</td>\n",
       "      <td>72</td>\n",
       "      <td>7.0</td>\n",
       "      <td>41.0</td>\n",
       "      <td>78</td>\n",
       "    </tr>\n",
       "    <tr>\n",
       "      <th>1</th>\n",
       "      <td>19</td>\n",
       "      <td>33.0</td>\n",
       "      <td>45</td>\n",
       "      <td>6.0</td>\n",
       "      <td>NaN</td>\n",
       "      <td>89</td>\n",
       "    </tr>\n",
       "    <tr>\n",
       "      <th>2</th>\n",
       "      <td>45</td>\n",
       "      <td>87.0</td>\n",
       "      <td>79</td>\n",
       "      <td>10.0</td>\n",
       "      <td>34.0</td>\n",
       "      <td>None</td>\n",
       "    </tr>\n",
       "    <tr>\n",
       "      <th>3</th>\n",
       "      <td>21</td>\n",
       "      <td>21.0</td>\n",
       "      <td>?</td>\n",
       "      <td>4.0</td>\n",
       "      <td>39.0</td>\n",
       "      <td>65</td>\n",
       "    </tr>\n",
       "    <tr>\n",
       "      <th>4</th>\n",
       "      <td>91</td>\n",
       "      <td>-39.0</td>\n",
       "      <td>75</td>\n",
       "      <td>-4.0</td>\n",
       "      <td>45.0</td>\n",
       "      <td>91</td>\n",
       "    </tr>\n",
       "  </tbody>\n",
       "</table>\n",
       "</div>"
      ],
      "text/plain": [
       "   Roll.no  OOP(50) EM-3(80)  EM-3 Tut(10)  DSA(50) CN(100)\n",
       "0       32     39.0       72           7.0     41.0      78\n",
       "1       19     33.0       45           6.0      NaN      89\n",
       "2       45     87.0       79          10.0     34.0    None\n",
       "3       21     21.0        ?           4.0     39.0      65\n",
       "4       91    -39.0       75          -4.0     45.0      91"
      ]
     },
     "execution_count": 1050,
     "metadata": {},
     "output_type": "execute_result"
    }
   ],
   "source": [
    "df.head()                         # displaying top 5 rows"
   ]
  },
  {
   "cell_type": "code",
   "execution_count": 1051,
   "id": "600161b6",
   "metadata": {},
   "outputs": [
    {
     "data": {
      "text/html": [
       "<div>\n",
       "<style scoped>\n",
       "    .dataframe tbody tr th:only-of-type {\n",
       "        vertical-align: middle;\n",
       "    }\n",
       "\n",
       "    .dataframe tbody tr th {\n",
       "        vertical-align: top;\n",
       "    }\n",
       "\n",
       "    .dataframe thead th {\n",
       "        text-align: right;\n",
       "    }\n",
       "</style>\n",
       "<table border=\"1\" class=\"dataframe\">\n",
       "  <thead>\n",
       "    <tr style=\"text-align: right;\">\n",
       "      <th></th>\n",
       "      <th>Roll.no</th>\n",
       "      <th>OOP(50)</th>\n",
       "      <th>EM-3 Tut(10)</th>\n",
       "      <th>DSA(50)</th>\n",
       "    </tr>\n",
       "  </thead>\n",
       "  <tbody>\n",
       "    <tr>\n",
       "      <th>count</th>\n",
       "      <td>11.000000</td>\n",
       "      <td>10.000000</td>\n",
       "      <td>10.000000</td>\n",
       "      <td>9.000000</td>\n",
       "    </tr>\n",
       "    <tr>\n",
       "      <th>mean</th>\n",
       "      <td>40.727273</td>\n",
       "      <td>31.900000</td>\n",
       "      <td>4.600000</td>\n",
       "      <td>34.222222</td>\n",
       "    </tr>\n",
       "    <tr>\n",
       "      <th>std</th>\n",
       "      <td>27.720357</td>\n",
       "      <td>31.806533</td>\n",
       "      <td>4.812022</td>\n",
       "      <td>25.508713</td>\n",
       "    </tr>\n",
       "    <tr>\n",
       "      <th>min</th>\n",
       "      <td>10.000000</td>\n",
       "      <td>-39.000000</td>\n",
       "      <td>-4.000000</td>\n",
       "      <td>-21.000000</td>\n",
       "    </tr>\n",
       "    <tr>\n",
       "      <th>25%</th>\n",
       "      <td>20.000000</td>\n",
       "      <td>24.000000</td>\n",
       "      <td>4.250000</td>\n",
       "      <td>32.000000</td>\n",
       "    </tr>\n",
       "    <tr>\n",
       "      <th>50%</th>\n",
       "      <td>32.000000</td>\n",
       "      <td>37.500000</td>\n",
       "      <td>6.500000</td>\n",
       "      <td>39.000000</td>\n",
       "    </tr>\n",
       "    <tr>\n",
       "      <th>75%</th>\n",
       "      <td>60.000000</td>\n",
       "      <td>43.000000</td>\n",
       "      <td>7.000000</td>\n",
       "      <td>41.000000</td>\n",
       "    </tr>\n",
       "    <tr>\n",
       "      <th>max</th>\n",
       "      <td>91.000000</td>\n",
       "      <td>87.000000</td>\n",
       "      <td>10.000000</td>\n",
       "      <td>76.000000</td>\n",
       "    </tr>\n",
       "  </tbody>\n",
       "</table>\n",
       "</div>"
      ],
      "text/plain": [
       "         Roll.no    OOP(50)  EM-3 Tut(10)    DSA(50)\n",
       "count  11.000000  10.000000     10.000000   9.000000\n",
       "mean   40.727273  31.900000      4.600000  34.222222\n",
       "std    27.720357  31.806533      4.812022  25.508713\n",
       "min    10.000000 -39.000000     -4.000000 -21.000000\n",
       "25%    20.000000  24.000000      4.250000  32.000000\n",
       "50%    32.000000  37.500000      6.500000  39.000000\n",
       "75%    60.000000  43.000000      7.000000  41.000000\n",
       "max    91.000000  87.000000     10.000000  76.000000"
      ]
     },
     "execution_count": 1051,
     "metadata": {},
     "output_type": "execute_result"
    }
   ],
   "source": [
    "df.describe()                    # Describing the dataset"
   ]
  },
  {
   "cell_type": "code",
   "execution_count": 1052,
   "id": "c187011b",
   "metadata": {},
   "outputs": [
    {
     "data": {
      "text/plain": [
       "(11, 6)"
      ]
     },
     "execution_count": 1052,
     "metadata": {},
     "output_type": "execute_result"
    }
   ],
   "source": [
    "df.shape                       # finding the shape of the dataset"
   ]
  },
  {
   "cell_type": "code",
   "execution_count": 1053,
   "id": "77020ccc",
   "metadata": {},
   "outputs": [
    {
     "data": {
      "text/plain": [
       "Roll.no           int64\n",
       "OOP(50)         float64\n",
       "EM-3(80)         object\n",
       "EM-3 Tut(10)    float64\n",
       "DSA(50)         float64\n",
       "CN(100)          object\n",
       "dtype: object"
      ]
     },
     "execution_count": 1053,
     "metadata": {},
     "output_type": "execute_result"
    }
   ],
   "source": [
    "df.dtypes                     # Data types of dataset"
   ]
  },
  {
   "cell_type": "code",
   "execution_count": 1054,
   "id": "9dd88ca9",
   "metadata": {},
   "outputs": [
    {
     "data": {
      "text/plain": [
       "Roll.no         0\n",
       "OOP(50)         1\n",
       "EM-3(80)        1\n",
       "EM-3 Tut(10)    1\n",
       "DSA(50)         2\n",
       "CN(100)         1\n",
       "dtype: int64"
      ]
     },
     "execution_count": 1054,
     "metadata": {},
     "output_type": "execute_result"
    }
   ],
   "source": [
    "df.isnull().sum()              # counting the number of null values of each columns"
   ]
  },
  {
   "cell_type": "code",
   "execution_count": 1055,
   "id": "d9f6618b",
   "metadata": {},
   "outputs": [],
   "source": [
    "df.replace('?', np.nan, inplace = True)              # replacing the unwanted value that is '?' with null values"
   ]
  },
  {
   "cell_type": "code",
   "execution_count": 1056,
   "id": "2ef7ac36",
   "metadata": {},
   "outputs": [
    {
     "data": {
      "text/plain": [
       "Roll.no         0\n",
       "OOP(50)         1\n",
       "EM-3(80)        2\n",
       "EM-3 Tut(10)    1\n",
       "DSA(50)         2\n",
       "CN(100)         2\n",
       "dtype: int64"
      ]
     },
     "execution_count": 1056,
     "metadata": {},
     "output_type": "execute_result"
    }
   ],
   "source": [
    "df.isnull().sum()              # counting the number of null values of each columns"
   ]
  },
  {
   "cell_type": "code",
   "execution_count": 1057,
   "id": "63a01597",
   "metadata": {},
   "outputs": [
    {
     "data": {
      "text/plain": [
       "array([ 39.,  33.,  87.,  21., -39.,  nan,  43.,  36.,  45.,  11.])"
      ]
     },
     "execution_count": 1057,
     "metadata": {},
     "output_type": "execute_result"
    }
   ],
   "source": [
    "df['OOP(50)'].unique()"
   ]
  },
  {
   "cell_type": "code",
   "execution_count": 1058,
   "id": "2b2e4b4d",
   "metadata": {},
   "outputs": [],
   "source": [
    "df['OOP(50)'].fillna(df['OOP(50)'].median(), inplace = True)\n",
    "df['EM-3(80)'].fillna(df['EM-3(80)'].median(), inplace = True)\n",
    "df['EM-3 Tut(10)'].fillna(df['EM-3 Tut(10)'].median(), inplace = True)\n",
    "df['DSA(50)'].fillna(df['DSA(50)'].median(), inplace = True)\n",
    "df['CN(100)'].fillna(df['CN(100)'].median(), inplace = True)           # replacing the null values with the median of the column"
   ]
  },
  {
   "cell_type": "code",
   "execution_count": 1059,
   "id": "2fe96572",
   "metadata": {},
   "outputs": [
    {
     "data": {
      "image/png": "[encoded data removed]",
      "text/plain": [
       "<Figure size 432x288 with 1 Axes>"
      ]
     },
     "metadata": {
      "needs_background": "light"
     },
     "output_type": "display_data"
    }
   ],
   "source": [
    "sns.kdeplot(df['CN(100)'], color='black', label = 'CN', shade=True)\n",
    "sns.kdeplot(df['DSA(50)'], color='blue', label = 'DSA', shade=True)\n",
    "sns.kdeplot(df['EM-3 Tut(10)'], color='orange', label = 'EM-3 TUT', shade=True)\n",
    "sns.kdeplot(df['EM-3(80)'], color='red', label = 'EM-3', shade=True)\n",
    "sns.kdeplot(df['OOP(50)'], color='green', label = 'OOP', shade=True)\n",
    "plt.xlabel(\"Subjects\")\n",
    "plt.legend()\n",
    "plt.show()"
   ]
  },
  {
   "cell_type": "code",
   "execution_count": 1060,
   "id": "f6d1ee1a",
   "metadata": {},
   "outputs": [
    {
     "data": {
      "text/html": [
       "<div>\n",
       "<style scoped>\n",
       "    .dataframe tbody tr th:only-of-type {\n",
       "        vertical-align: middle;\n",
       "    }\n",
       "\n",
       "    .dataframe tbody tr th {\n",
       "        vertical-align: top;\n",
       "    }\n",
       "\n",
       "    .dataframe thead th {\n",
       "        text-align: right;\n",
       "    }\n",
       "</style>\n",
       "<table border=\"1\" class=\"dataframe\">\n",
       "  <thead>\n",
       "    <tr style=\"text-align: right;\">\n",
       "      <th></th>\n",
       "      <th>Roll.no</th>\n",
       "      <th>OOP(50)</th>\n",
       "      <th>EM-3(80)</th>\n",
       "      <th>EM-3 Tut(10)</th>\n",
       "      <th>DSA(50)</th>\n",
       "      <th>CN(100)</th>\n",
       "    </tr>\n",
       "  </thead>\n",
       "  <tbody>\n",
       "    <tr>\n",
       "      <th>0</th>\n",
       "      <td>32</td>\n",
       "      <td>39.0</td>\n",
       "      <td>72.0</td>\n",
       "      <td>7.0</td>\n",
       "      <td>41.0</td>\n",
       "      <td>78.0</td>\n",
       "    </tr>\n",
       "    <tr>\n",
       "      <th>1</th>\n",
       "      <td>19</td>\n",
       "      <td>33.0</td>\n",
       "      <td>45.0</td>\n",
       "      <td>6.0</td>\n",
       "      <td>39.0</td>\n",
       "      <td>89.0</td>\n",
       "    </tr>\n",
       "    <tr>\n",
       "      <th>2</th>\n",
       "      <td>45</td>\n",
       "      <td>87.0</td>\n",
       "      <td>79.0</td>\n",
       "      <td>10.0</td>\n",
       "      <td>34.0</td>\n",
       "      <td>89.0</td>\n",
       "    </tr>\n",
       "    <tr>\n",
       "      <th>3</th>\n",
       "      <td>21</td>\n",
       "      <td>21.0</td>\n",
       "      <td>72.0</td>\n",
       "      <td>4.0</td>\n",
       "      <td>39.0</td>\n",
       "      <td>65.0</td>\n",
       "    </tr>\n",
       "    <tr>\n",
       "      <th>4</th>\n",
       "      <td>91</td>\n",
       "      <td>-39.0</td>\n",
       "      <td>75.0</td>\n",
       "      <td>-4.0</td>\n",
       "      <td>45.0</td>\n",
       "      <td>91.0</td>\n",
       "    </tr>\n",
       "    <tr>\n",
       "      <th>5</th>\n",
       "      <td>66</td>\n",
       "      <td>37.5</td>\n",
       "      <td>66.0</td>\n",
       "      <td>8.0</td>\n",
       "      <td>21.0</td>\n",
       "      <td>89.0</td>\n",
       "    </tr>\n",
       "    <tr>\n",
       "      <th>6</th>\n",
       "      <td>23</td>\n",
       "      <td>43.0</td>\n",
       "      <td>72.0</td>\n",
       "      <td>7.0</td>\n",
       "      <td>-21.0</td>\n",
       "      <td>81.0</td>\n",
       "    </tr>\n",
       "    <tr>\n",
       "      <th>7</th>\n",
       "      <td>11</td>\n",
       "      <td>36.0</td>\n",
       "      <td>56.0</td>\n",
       "      <td>5.0</td>\n",
       "      <td>76.0</td>\n",
       "      <td>76.0</td>\n",
       "    </tr>\n",
       "    <tr>\n",
       "      <th>8</th>\n",
       "      <td>54</td>\n",
       "      <td>45.0</td>\n",
       "      <td>71.0</td>\n",
       "      <td>6.5</td>\n",
       "      <td>32.0</td>\n",
       "      <td>150.0</td>\n",
       "    </tr>\n",
       "    <tr>\n",
       "      <th>9</th>\n",
       "      <td>76</td>\n",
       "      <td>11.0</td>\n",
       "      <td>122.0</td>\n",
       "      <td>-4.0</td>\n",
       "      <td>39.0</td>\n",
       "      <td>94.0</td>\n",
       "    </tr>\n",
       "    <tr>\n",
       "      <th>10</th>\n",
       "      <td>10</td>\n",
       "      <td>43.0</td>\n",
       "      <td>72.0</td>\n",
       "      <td>7.0</td>\n",
       "      <td>41.0</td>\n",
       "      <td>94.0</td>\n",
       "    </tr>\n",
       "  </tbody>\n",
       "</table>\n",
       "</div>"
      ],
      "text/plain": [
       "    Roll.no  OOP(50)  EM-3(80)  EM-3 Tut(10)  DSA(50)  CN(100)\n",
       "0        32     39.0      72.0           7.0     41.0     78.0\n",
       "1        19     33.0      45.0           6.0     39.0     89.0\n",
       "2        45     87.0      79.0          10.0     34.0     89.0\n",
       "3        21     21.0      72.0           4.0     39.0     65.0\n",
       "4        91    -39.0      75.0          -4.0     45.0     91.0\n",
       "5        66     37.5      66.0           8.0     21.0     89.0\n",
       "6        23     43.0      72.0           7.0    -21.0     81.0\n",
       "7        11     36.0      56.0           5.0     76.0     76.0\n",
       "8        54     45.0      71.0           6.5     32.0    150.0\n",
       "9        76     11.0     122.0          -4.0     39.0     94.0\n",
       "10       10     43.0      72.0           7.0     41.0     94.0"
      ]
     },
     "execution_count": 1060,
     "metadata": {},
     "output_type": "execute_result"
    }
   ],
   "source": [
    "df"
   ]
  },
  {
   "cell_type": "code",
   "execution_count": 1061,
   "id": "fa2757ff",
   "metadata": {},
   "outputs": [],
   "source": [
    "# column = [['OOP(50)', 50], ['EM-3(80)', 80], ['EM-3 Tut(10)', 10], ['DSA(50)', 50], ['CN(100)', 100] ]\n",
    "# # l = []\n",
    "# for i in column:\n",
    "# #     k = i[0]\n",
    "# #     Q1 = np.percentile(df[k], 25, interpolation = 'midpoint')\n",
    "# #     Q3 = np.percentile(df[k], 75, interpolation = 'midpoint')\n",
    "# #     print(Q1)\n",
    "# #     print(Q3)\n",
    "#      k = i[0]\n",
    "#      meanColumn = np.mean(df[k])\n",
    "#      stdColumn = np.std(df[k])\n",
    "#      threshold = -0.4\n",
    "#      threshold2 = 1.5\n",
    "#      outlier = []\n",
    "    \n",
    "#      for j in df[k]:\n",
    "#          z = (j-meanColumn)/stdColumn\n",
    "#          if z>threshold2 or z<threshold:\n",
    "#              outlier.append(j)\n",
    "#              df[k].replace(j, np.nan, inplace = True)\n",
    "#      print('outlier in dataset is', outlier)\n",
    "# #     outlier = []\n",
    "# #     for j in df[k]:\n",
    "        \n",
    "# #         if j != None:\n",
    "# #             if j not in range(int(Q1*0.6), int(Q3*0.6)):\n",
    "# #                 outlier.append(j)\n",
    "# #                 df[k].replace(j, np.nan, inplace = True)\n",
    "                \n",
    "# #     print('outlier in dataset is', outlier)\n",
    "\n",
    "# # If the value is not in the range of max marks then replacing the value by null\n",
    "\n",
    "# # Finding the z-score to find the outliers of the dataset"
   ]
  },
  {
   "cell_type": "code",
   "execution_count": 1062,
   "id": "44a98484",
   "metadata": {},
   "outputs": [
    {
     "name": "stdout",
     "output_type": "stream",
     "text": [
      "outlier in dataset is [87.0, 21.0, -39.0, 11.0]\n",
      "outlier in dataset is [45.0, 56.0, 122.0]\n",
      "outlier in dataset is [-4.0]\n",
      "outlier in dataset is [21.0, -21.0, 76.0]\n",
      "outlier in dataset is [65.0, 91.0, 150.0, 94.0]\n"
     ]
    }
   ],
   "source": [
    "meanColumn = np.mean(df[\"OOP(50)\"])\n",
    "stdColumn = np.std(df[\"OOP(50)\"])\n",
    "threshold = -0.2\n",
    "threshold2 = 1.5\n",
    "outlier = []\n",
    "\n",
    "for j in df['OOP(50)']:\n",
    " z = (j-meanColumn)/stdColumn\n",
    " if z>threshold2 or z<threshold:\n",
    "     outlier.append(j)\n",
    "     df[\"OOP(50)\"].replace(j, np.nan, inplace = True)\n",
    "print('outlier in dataset is', outlier)\n",
    "\n",
    "meanColumn = np.mean(df[\"EM-3(80)\"])\n",
    "stdColumn = np.std(df[\"EM-3(80)\"])\n",
    "threshold = -0.4\n",
    "threshold2 = 1.5\n",
    "outlier = []\n",
    "\n",
    "for j in df['EM-3(80)']:\n",
    " z = (j-meanColumn)/stdColumn\n",
    " if z>threshold2 or z<threshold:\n",
    "     outlier.append(j)\n",
    "     df[\"EM-3(80)\"].replace(j, np.nan, inplace = True)\n",
    "print('outlier in dataset is', outlier)\n",
    "\n",
    "\n",
    "meanColumn = np.mean(df[\"EM-3 Tut(10)\"])\n",
    "stdColumn = np.std(df[\"EM-3 Tut(10)\"])\n",
    "threshold = -0.7\n",
    "threshold2 = 1.5\n",
    "outlier = []\n",
    "\n",
    "for j in df['EM-3 Tut(10)']:\n",
    " z = (j-meanColumn)/stdColumn\n",
    " if z>threshold2 or z<threshold:\n",
    "     outlier.append(j)\n",
    "     df[\"EM-3 Tut(10)\"].replace(j, np.nan, inplace = True)\n",
    "print('outlier in dataset is', outlier)\n",
    "\n",
    "meanColumn = np.mean(df[\"DSA(50)\"])\n",
    "stdColumn = np.std(df[\"DSA(50)\"])\n",
    "threshold = -0.4\n",
    "threshold2 = 1.0\n",
    "outlier = []\n",
    "\n",
    "for j in df['DSA(50)']:\n",
    " z = (j-meanColumn)/stdColumn\n",
    " if z>threshold2 or z<threshold:\n",
    "     outlier.append(j)\n",
    "     df[\"DSA(50)\"].replace(j, np.nan, inplace = True)\n",
    "print('outlier in dataset is', outlier)\n",
    "\n",
    "meanColumn = np.mean(df[\"CN(100)\"])\n",
    "stdColumn = np.std(df[\"CN(100)\"])\n",
    "threshold = -1\n",
    "threshold2 = 0\n",
    "outlier = []\n",
    "\n",
    "for j in df['CN(100)']:\n",
    " z = (j-meanColumn)/stdColumn\n",
    " if z>threshold2 or z<threshold:\n",
    "     outlier.append(j)\n",
    "     df[\"CN(100)\"].replace(j, np.nan, inplace = True)\n",
    "print('outlier in dataset is', outlier)"
   ]
  },
  {
   "cell_type": "code",
   "execution_count": 1063,
   "id": "800923b7",
   "metadata": {},
   "outputs": [
    {
     "name": "stdout",
     "output_type": "stream",
     "text": [
      "   Roll.no  OOP(50)  EM-3(80)  EM-3 Tut(10)  DSA(50)  CN(100)\n",
      "0       32     39.0      72.0           7.0     41.0     78.0\n",
      "1       19     33.0       NaN           6.0     39.0     89.0\n",
      "2       45      NaN      79.0          10.0     34.0     89.0\n",
      "3       21      NaN      72.0           4.0     39.0      NaN\n",
      "4       91      NaN      75.0           NaN     45.0      NaN\n"
     ]
    }
   ],
   "source": [
    "print(df.head())"
   ]
  },
  {
   "cell_type": "code",
   "execution_count": 1064,
   "id": "c1687124",
   "metadata": {},
   "outputs": [],
   "source": [
    "df['OOP(50)'].fillna(df['OOP(50)'].median(), inplace = True)\n",
    "df['EM-3(80)'].fillna(df['EM-3(80)'].median(), inplace = True)\n",
    "df['EM-3 Tut(10)'].fillna(df['EM-3 Tut(10)'].median(), inplace = True)\n",
    "df['DSA(50)'].fillna(df['DSA(50)'].median(), inplace = True)\n",
    "df['CN(100)'].fillna(df['CN(100)'].median(), inplace = True)           # replacing the null values with the median of the column"
   ]
  },
  {
   "cell_type": "code",
   "execution_count": 1065,
   "id": "b38b00dc",
   "metadata": {},
   "outputs": [
    {
     "data": {
      "text/html": [
       "<div>\n",
       "<style scoped>\n",
       "    .dataframe tbody tr th:only-of-type {\n",
       "        vertical-align: middle;\n",
       "    }\n",
       "\n",
       "    .dataframe tbody tr th {\n",
       "        vertical-align: top;\n",
       "    }\n",
       "\n",
       "    .dataframe thead th {\n",
       "        text-align: right;\n",
       "    }\n",
       "</style>\n",
       "<table border=\"1\" class=\"dataframe\">\n",
       "  <thead>\n",
       "    <tr style=\"text-align: right;\">\n",
       "      <th></th>\n",
       "      <th>Roll.no</th>\n",
       "      <th>OOP(50)</th>\n",
       "      <th>EM-3(80)</th>\n",
       "      <th>EM-3 Tut(10)</th>\n",
       "      <th>DSA(50)</th>\n",
       "      <th>CN(100)</th>\n",
       "    </tr>\n",
       "  </thead>\n",
       "  <tbody>\n",
       "    <tr>\n",
       "      <th>0</th>\n",
       "      <td>32</td>\n",
       "      <td>39.0</td>\n",
       "      <td>72.0</td>\n",
       "      <td>7.0</td>\n",
       "      <td>41.0</td>\n",
       "      <td>78.0</td>\n",
       "    </tr>\n",
       "    <tr>\n",
       "      <th>1</th>\n",
       "      <td>19</td>\n",
       "      <td>33.0</td>\n",
       "      <td>72.0</td>\n",
       "      <td>6.0</td>\n",
       "      <td>39.0</td>\n",
       "      <td>89.0</td>\n",
       "    </tr>\n",
       "    <tr>\n",
       "      <th>2</th>\n",
       "      <td>45</td>\n",
       "      <td>39.0</td>\n",
       "      <td>79.0</td>\n",
       "      <td>10.0</td>\n",
       "      <td>34.0</td>\n",
       "      <td>89.0</td>\n",
       "    </tr>\n",
       "    <tr>\n",
       "      <th>3</th>\n",
       "      <td>21</td>\n",
       "      <td>39.0</td>\n",
       "      <td>72.0</td>\n",
       "      <td>4.0</td>\n",
       "      <td>39.0</td>\n",
       "      <td>85.0</td>\n",
       "    </tr>\n",
       "    <tr>\n",
       "      <th>4</th>\n",
       "      <td>91</td>\n",
       "      <td>39.0</td>\n",
       "      <td>75.0</td>\n",
       "      <td>7.0</td>\n",
       "      <td>45.0</td>\n",
       "      <td>85.0</td>\n",
       "    </tr>\n",
       "  </tbody>\n",
       "</table>\n",
       "</div>"
      ],
      "text/plain": [
       "   Roll.no  OOP(50)  EM-3(80)  EM-3 Tut(10)  DSA(50)  CN(100)\n",
       "0       32     39.0      72.0           7.0     41.0     78.0\n",
       "1       19     33.0      72.0           6.0     39.0     89.0\n",
       "2       45     39.0      79.0          10.0     34.0     89.0\n",
       "3       21     39.0      72.0           4.0     39.0     85.0\n",
       "4       91     39.0      75.0           7.0     45.0     85.0"
      ]
     },
     "execution_count": 1065,
     "metadata": {},
     "output_type": "execute_result"
    }
   ],
   "source": [
    "df.head()                     # displaying the top 5 values"
   ]
  },
  {
   "cell_type": "code",
   "execution_count": 1066,
   "id": "b26761f3",
   "metadata": {},
   "outputs": [
    {
     "data": {
      "text/html": [
       "<div>\n",
       "<style scoped>\n",
       "    .dataframe tbody tr th:only-of-type {\n",
       "        vertical-align: middle;\n",
       "    }\n",
       "\n",
       "    .dataframe tbody tr th {\n",
       "        vertical-align: top;\n",
       "    }\n",
       "\n",
       "    .dataframe thead th {\n",
       "        text-align: right;\n",
       "    }\n",
       "</style>\n",
       "<table border=\"1\" class=\"dataframe\">\n",
       "  <thead>\n",
       "    <tr style=\"text-align: right;\">\n",
       "      <th></th>\n",
       "      <th>Roll.no</th>\n",
       "      <th>OOP(50)</th>\n",
       "      <th>EM-3(80)</th>\n",
       "      <th>EM-3 Tut(10)</th>\n",
       "      <th>DSA(50)</th>\n",
       "      <th>CN(100)</th>\n",
       "    </tr>\n",
       "  </thead>\n",
       "  <tbody>\n",
       "    <tr>\n",
       "      <th>0</th>\n",
       "      <td>32</td>\n",
       "      <td>39.0</td>\n",
       "      <td>72.0</td>\n",
       "      <td>7.0</td>\n",
       "      <td>41.0</td>\n",
       "      <td>78.0</td>\n",
       "    </tr>\n",
       "    <tr>\n",
       "      <th>1</th>\n",
       "      <td>19</td>\n",
       "      <td>33.0</td>\n",
       "      <td>72.0</td>\n",
       "      <td>6.0</td>\n",
       "      <td>39.0</td>\n",
       "      <td>89.0</td>\n",
       "    </tr>\n",
       "    <tr>\n",
       "      <th>2</th>\n",
       "      <td>45</td>\n",
       "      <td>39.0</td>\n",
       "      <td>79.0</td>\n",
       "      <td>10.0</td>\n",
       "      <td>34.0</td>\n",
       "      <td>89.0</td>\n",
       "    </tr>\n",
       "    <tr>\n",
       "      <th>3</th>\n",
       "      <td>21</td>\n",
       "      <td>39.0</td>\n",
       "      <td>72.0</td>\n",
       "      <td>4.0</td>\n",
       "      <td>39.0</td>\n",
       "      <td>85.0</td>\n",
       "    </tr>\n",
       "    <tr>\n",
       "      <th>4</th>\n",
       "      <td>91</td>\n",
       "      <td>39.0</td>\n",
       "      <td>75.0</td>\n",
       "      <td>7.0</td>\n",
       "      <td>45.0</td>\n",
       "      <td>85.0</td>\n",
       "    </tr>\n",
       "    <tr>\n",
       "      <th>5</th>\n",
       "      <td>66</td>\n",
       "      <td>37.5</td>\n",
       "      <td>66.0</td>\n",
       "      <td>8.0</td>\n",
       "      <td>39.0</td>\n",
       "      <td>89.0</td>\n",
       "    </tr>\n",
       "    <tr>\n",
       "      <th>6</th>\n",
       "      <td>23</td>\n",
       "      <td>43.0</td>\n",
       "      <td>72.0</td>\n",
       "      <td>7.0</td>\n",
       "      <td>39.0</td>\n",
       "      <td>81.0</td>\n",
       "    </tr>\n",
       "    <tr>\n",
       "      <th>7</th>\n",
       "      <td>11</td>\n",
       "      <td>36.0</td>\n",
       "      <td>72.0</td>\n",
       "      <td>5.0</td>\n",
       "      <td>39.0</td>\n",
       "      <td>76.0</td>\n",
       "    </tr>\n",
       "    <tr>\n",
       "      <th>8</th>\n",
       "      <td>54</td>\n",
       "      <td>45.0</td>\n",
       "      <td>71.0</td>\n",
       "      <td>6.5</td>\n",
       "      <td>32.0</td>\n",
       "      <td>85.0</td>\n",
       "    </tr>\n",
       "    <tr>\n",
       "      <th>9</th>\n",
       "      <td>76</td>\n",
       "      <td>39.0</td>\n",
       "      <td>72.0</td>\n",
       "      <td>7.0</td>\n",
       "      <td>39.0</td>\n",
       "      <td>85.0</td>\n",
       "    </tr>\n",
       "    <tr>\n",
       "      <th>10</th>\n",
       "      <td>10</td>\n",
       "      <td>43.0</td>\n",
       "      <td>72.0</td>\n",
       "      <td>7.0</td>\n",
       "      <td>41.0</td>\n",
       "      <td>85.0</td>\n",
       "    </tr>\n",
       "  </tbody>\n",
       "</table>\n",
       "</div>"
      ],
      "text/plain": [
       "    Roll.no  OOP(50)  EM-3(80)  EM-3 Tut(10)  DSA(50)  CN(100)\n",
       "0        32     39.0      72.0           7.0     41.0     78.0\n",
       "1        19     33.0      72.0           6.0     39.0     89.0\n",
       "2        45     39.0      79.0          10.0     34.0     89.0\n",
       "3        21     39.0      72.0           4.0     39.0     85.0\n",
       "4        91     39.0      75.0           7.0     45.0     85.0\n",
       "5        66     37.5      66.0           8.0     39.0     89.0\n",
       "6        23     43.0      72.0           7.0     39.0     81.0\n",
       "7        11     36.0      72.0           5.0     39.0     76.0\n",
       "8        54     45.0      71.0           6.5     32.0     85.0\n",
       "9        76     39.0      72.0           7.0     39.0     85.0\n",
       "10       10     43.0      72.0           7.0     41.0     85.0"
      ]
     },
     "execution_count": 1066,
     "metadata": {},
     "output_type": "execute_result"
    }
   ],
   "source": [
    "df"
   ]
  },
  {
   "cell_type": "code",
   "execution_count": 1067,
   "id": "de78a645",
   "metadata": {},
   "outputs": [],
   "source": [
    "from sklearn.preprocessing import MinMaxScaler\n",
    "min_max_scaler = MinMaxScaler()                # Converting all the marks in one scale i.e. in the range of 0-1"
   ]
  },
  {
   "cell_type": "code",
   "execution_count": 1068,
   "id": "c9460173",
   "metadata": {},
   "outputs": [],
   "source": [
    "df[[\"OOP(50)\", \"EM-3(80)\", \"EM-3 Tut(10)\", \"DSA(50)\", \"CN(100)\"]] = min_max_scaler.fit_transform(df[[\"OOP(50)\", \"EM-3(80)\", \"EM-3 Tut(10)\", \"DSA(50)\", \"CN(100)\"]])"
   ]
  },
  {
   "cell_type": "code",
   "execution_count": 1069,
   "id": "5d219f18",
   "metadata": {},
   "outputs": [
    {
     "data": {
      "text/html": [
       "<div>\n",
       "<style scoped>\n",
       "    .dataframe tbody tr th:only-of-type {\n",
       "        vertical-align: middle;\n",
       "    }\n",
       "\n",
       "    .dataframe tbody tr th {\n",
       "        vertical-align: top;\n",
       "    }\n",
       "\n",
       "    .dataframe thead th {\n",
       "        text-align: right;\n",
       "    }\n",
       "</style>\n",
       "<table border=\"1\" class=\"dataframe\">\n",
       "  <thead>\n",
       "    <tr style=\"text-align: right;\">\n",
       "      <th></th>\n",
       "      <th>Roll.no</th>\n",
       "      <th>OOP(50)</th>\n",
       "      <th>EM-3(80)</th>\n",
       "      <th>EM-3 Tut(10)</th>\n",
       "      <th>DSA(50)</th>\n",
       "      <th>CN(100)</th>\n",
       "    </tr>\n",
       "  </thead>\n",
       "  <tbody>\n",
       "    <tr>\n",
       "      <th>0</th>\n",
       "      <td>32</td>\n",
       "      <td>0.500000</td>\n",
       "      <td>0.461538</td>\n",
       "      <td>0.500000</td>\n",
       "      <td>0.692308</td>\n",
       "      <td>0.153846</td>\n",
       "    </tr>\n",
       "    <tr>\n",
       "      <th>1</th>\n",
       "      <td>19</td>\n",
       "      <td>0.000000</td>\n",
       "      <td>0.461538</td>\n",
       "      <td>0.333333</td>\n",
       "      <td>0.538462</td>\n",
       "      <td>1.000000</td>\n",
       "    </tr>\n",
       "    <tr>\n",
       "      <th>2</th>\n",
       "      <td>45</td>\n",
       "      <td>0.500000</td>\n",
       "      <td>1.000000</td>\n",
       "      <td>1.000000</td>\n",
       "      <td>0.153846</td>\n",
       "      <td>1.000000</td>\n",
       "    </tr>\n",
       "    <tr>\n",
       "      <th>3</th>\n",
       "      <td>21</td>\n",
       "      <td>0.500000</td>\n",
       "      <td>0.461538</td>\n",
       "      <td>0.000000</td>\n",
       "      <td>0.538462</td>\n",
       "      <td>0.692308</td>\n",
       "    </tr>\n",
       "    <tr>\n",
       "      <th>4</th>\n",
       "      <td>91</td>\n",
       "      <td>0.500000</td>\n",
       "      <td>0.692308</td>\n",
       "      <td>0.500000</td>\n",
       "      <td>1.000000</td>\n",
       "      <td>0.692308</td>\n",
       "    </tr>\n",
       "    <tr>\n",
       "      <th>5</th>\n",
       "      <td>66</td>\n",
       "      <td>0.375000</td>\n",
       "      <td>0.000000</td>\n",
       "      <td>0.666667</td>\n",
       "      <td>0.538462</td>\n",
       "      <td>1.000000</td>\n",
       "    </tr>\n",
       "    <tr>\n",
       "      <th>6</th>\n",
       "      <td>23</td>\n",
       "      <td>0.833333</td>\n",
       "      <td>0.461538</td>\n",
       "      <td>0.500000</td>\n",
       "      <td>0.538462</td>\n",
       "      <td>0.384615</td>\n",
       "    </tr>\n",
       "    <tr>\n",
       "      <th>7</th>\n",
       "      <td>11</td>\n",
       "      <td>0.250000</td>\n",
       "      <td>0.461538</td>\n",
       "      <td>0.166667</td>\n",
       "      <td>0.538462</td>\n",
       "      <td>0.000000</td>\n",
       "    </tr>\n",
       "    <tr>\n",
       "      <th>8</th>\n",
       "      <td>54</td>\n",
       "      <td>1.000000</td>\n",
       "      <td>0.384615</td>\n",
       "      <td>0.416667</td>\n",
       "      <td>0.000000</td>\n",
       "      <td>0.692308</td>\n",
       "    </tr>\n",
       "    <tr>\n",
       "      <th>9</th>\n",
       "      <td>76</td>\n",
       "      <td>0.500000</td>\n",
       "      <td>0.461538</td>\n",
       "      <td>0.500000</td>\n",
       "      <td>0.538462</td>\n",
       "      <td>0.692308</td>\n",
       "    </tr>\n",
       "    <tr>\n",
       "      <th>10</th>\n",
       "      <td>10</td>\n",
       "      <td>0.833333</td>\n",
       "      <td>0.461538</td>\n",
       "      <td>0.500000</td>\n",
       "      <td>0.692308</td>\n",
       "      <td>0.692308</td>\n",
       "    </tr>\n",
       "  </tbody>\n",
       "</table>\n",
       "</div>"
      ],
      "text/plain": [
       "    Roll.no   OOP(50)  EM-3(80)  EM-3 Tut(10)   DSA(50)   CN(100)\n",
       "0        32  0.500000  0.461538      0.500000  0.692308  0.153846\n",
       "1        19  0.000000  0.461538      0.333333  0.538462  1.000000\n",
       "2        45  0.500000  1.000000      1.000000  0.153846  1.000000\n",
       "3        21  0.500000  0.461538      0.000000  0.538462  0.692308\n",
       "4        91  0.500000  0.692308      0.500000  1.000000  0.692308\n",
       "5        66  0.375000  0.000000      0.666667  0.538462  1.000000\n",
       "6        23  0.833333  0.461538      0.500000  0.538462  0.384615\n",
       "7        11  0.250000  0.461538      0.166667  0.538462  0.000000\n",
       "8        54  1.000000  0.384615      0.416667  0.000000  0.692308\n",
       "9        76  0.500000  0.461538      0.500000  0.538462  0.692308\n",
       "10       10  0.833333  0.461538      0.500000  0.692308  0.692308"
      ]
     },
     "execution_count": 1069,
     "metadata": {},
     "output_type": "execute_result"
    }
   ],
   "source": [
    "df"
   ]
  },
  {
   "cell_type": "code",
   "execution_count": 1073,
   "id": "4143c121",
   "metadata": {},
   "outputs": [
    {
     "ename": "SyntaxError",
     "evalue": "positional argument follows keyword argument (<ipython-input-1073-4895d85ac2d9>, line 1)",
     "output_type": "error",
     "traceback": [
      "\u001b[1;36m  File \u001b[1;32m\"<ipython-input-1073-4895d85ac2d9>\"\u001b[1;36m, line \u001b[1;32m1\u001b[0m\n\u001b[1;33m    sns.boxplot(y='value', x = 'variable',df[['OOP(50)', 'EM-3(80)', 'EM-3 Tut(10)', 'DSA(50)', 'CN(100)']], grid = False)\u001b[0m\n\u001b[1;37m                                          ^\u001b[0m\n\u001b[1;31mSyntaxError\u001b[0m\u001b[1;31m:\u001b[0m positional argument follows keyword argument\n"
     ]
    }
   ],
   "source": [
    "sns.boxplot(y='value', x = 'variable',df['OOP(50)', 'EM-3(80)', 'EM-3 Tut(10)', 'DSA(50)', 'CN(100)'], grid = False)"
   ]
  },
  {
   "cell_type": "code",
   "execution_count": 1072,
   "id": "89d49ab2",
   "metadata": {},
   "outputs": [
    {
     "data": {
      "image/png": "[encoded data removed]",
      "text/plain": [
       "<Figure size 432x288 with 1 Axes>"
      ]
     },
     "metadata": {
      "needs_background": "light"
     },
     "output_type": "display_data"
    }
   ],
   "source": [
    "df['OOP(50)'].plot.density(color='green')\n",
    "plt.title('Density Plot for OOP(50)')\n",
    "plt.show()"
   ]
  },
  {
   "cell_type": "code",
   "execution_count": null,
   "id": "50b34ed4",
   "metadata": {},
   "outputs": [],
   "source": [
    "df['EM-3(80)'].plot.density(color='red')\n",
    "plt.title('Density Plot of EM-3(80)')\n",
    "plt.show()"
   ]
  },
  {
   "cell_type": "code",
   "execution_count": null,
   "id": "795ae5aa",
   "metadata": {},
   "outputs": [],
   "source": [
    "df['EM-3 Tut(10)'].plot.density(color='orange')\n",
    "plt.title('Density Plot of EM-3 Tut(10)')\n",
    "plt.show()"
   ]
  },
  {
   "cell_type": "code",
   "execution_count": null,
   "id": "5a34f671",
   "metadata": {},
   "outputs": [],
   "source": [
    "df['DSA(50)'].plot.density(color='blue')\n",
    "plt.title('Density Plot of DSA(50)')\n",
    "plt.show()"
   ]
  },
  {
   "cell_type": "code",
   "execution_count": null,
   "id": "caff8106",
   "metadata": {},
   "outputs": [],
   "source": [
    "df['CN(100)'].plot.density(color='black')\n",
    "plt.title('Density Plot of CN(100)')\n",
    "plt.show()"
   ]
  },
  {
   "cell_type": "code",
   "execution_count": null,
   "id": "3d5acf70",
   "metadata": {},
   "outputs": [],
   "source": [
    "sns.kdeplot(df['CN(100)'], color='black', label = 'CN', shade=True)\n",
    "sns.kdeplot(df['DSA(50)'], color='blue', label = 'DSA', shade=True)\n",
    "sns.kdeplot(df['EM-3 Tut(10)'], color='orange', label = 'EM-3 TUT', shade=True)\n",
    "sns.kdeplot(df['EM-3(80)'], color='red', label = 'EM-3', shade=True)\n",
    "sns.kdeplot(df['OOP(50)'], color='green', label = 'OOP', shade=True)\n",
    "plt.xlabel(\"Subjects\")\n",
    "plt.legend()\n",
    "plt.show()"
   ]
  },
  {
   "cell_type": "code",
   "execution_count": null,
   "id": "3bad4843",
   "metadata": {},
   "outputs": [],
   "source": [
    "df['Average'] = df.iloc[:, 1:6].mean(axis=1)*100    # finding the average of students marks and storing it in the average column"
   ]
  },
  {
   "cell_type": "code",
   "execution_count": null,
   "id": "83492682",
   "metadata": {},
   "outputs": [],
   "source": [
    "df"
   ]
  },
  {
   "cell_type": "code",
   "execution_count": null,
   "id": "deb81332",
   "metadata": {},
   "outputs": [],
   "source": []
  }
 ],
 "metadata": {
  "kernelspec": {
   "display_name": "Python 3",
   "language": "python",
   "name": "python3"
  },
  "language_info": {
   "codemirror_mode": {
    "name": "ipython",
    "version": 3
   },
   "file_extension": ".py",
   "mimetype": "text/x-python",
   "name": "python",
   "nbconvert_exporter": "python",
   "pygments_lexer": "ipython3",
   "version": "3.8.8"
  }
 },
 "nbformat": 4,
 "nbformat_minor": 5
}
